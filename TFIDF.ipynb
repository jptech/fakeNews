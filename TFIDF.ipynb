{
 "cells": [
  {
   "cell_type": "code",
   "execution_count": null,
   "metadata": {
    "collapsed": true
   },
   "outputs": [],
   "source": [
    "import pandas as pd"
   ]
  },
  {
   "cell_type": "code",
   "execution_count": null,
   "metadata": {},
   "outputs": [],
   "source": [
    "articles = pd.read_csv(\"train.csv\")[\"text\"]\n",
    "articles"
   ]
  },
  {
   "cell_type": "code",
   "execution_count": null,
   "metadata": {
    "collapsed": true
   },
   "outputs": [],
   "source": [
    "docs = articles[:6]\n",
    "docs = [doc.split() for doc in docs]"
   ]
  },
  {
   "cell_type": "code",
   "execution_count": null,
   "metadata": {
    "collapsed": true
   },
   "outputs": [],
   "source": [
    "from collections import Counter\n",
    "def highest_frequency(list_of_words):\n",
    "    counts = Counter(list_of_words)\n",
    "    return counts.most_common(4)"
   ]
  },
  {
   "cell_type": "code",
   "execution_count": null,
   "metadata": {},
   "outputs": [],
   "source": [
    "for doc in docs:\n",
    "    print(highest_frequency(doc))"
   ]
  },
  {
   "cell_type": "markdown",
   "metadata": {},
   "source": [
    "# TFIDF: term frequency inverse document frequency\n",
    "Take the number of times it occurs in this document (term frequency) and divide it by the number of documents it occurs in (inverse document frequency)"
   ]
  },
  {
   "cell_type": "code",
   "execution_count": null,
   "metadata": {},
   "outputs": [],
   "source": [
    "# Step 1: get a list of all words in our \"corpus\"\n",
    "doc_freq = {}\n",
    "for doc in docs:\n",
    "    for word in doc:\n",
    "        if word not in doc_freq:\n",
    "            doc_freq[word] = 1\n",
    "        doc_freq[word] += 1\n",
    "doc_freq"
   ]
  },
  {
   "cell_type": "code",
   "execution_count": null,
   "metadata": {},
   "outputs": [],
   "source": [
    "# Step 3: get term frequency of each word for each document\n",
    "term_freq = [{} for doc in docs]\n",
    "for doc, freq in zip(docs, term_freq):\n",
    "    for word in doc:\n",
    "        if word not in freq:\n",
    "            freq[word] = 0\n",
    "        freq[word] += 1\n",
    "term_freq"
   ]
  },
  {
   "cell_type": "code",
   "execution_count": null,
   "metadata": {},
   "outputs": [],
   "source": [
    "# Step 4: divide term frequency by doc frequency to get TFIDF\n",
    "tfidf = []\n",
    "for doc in term_freq:\n",
    "    tfidf.append({k: doc[k] / doc_freq[k] for k in doc})\n",
    "tfidf"
   ]
  },
  {
   "cell_type": "code",
   "execution_count": null,
   "metadata": {},
   "outputs": [],
   "source": [
    "import operator\n",
    "for doc in tfidf:\n",
    "    sorted_words = sorted(doc.items(), key=operator.itemgetter(1), reverse=True)\n",
    "    most_important_words = sorted_words[:10]\n",
    "    print(most_important_words, \"\\n\\n\")"
   ]
  },
  {
   "cell_type": "code",
   "execution_count": null,
   "metadata": {
    "collapsed": true
   },
   "outputs": [],
   "source": []
  }
 ],
 "metadata": {
  "kernelspec": {
   "display_name": "Python [conda root]",
   "language": "python",
   "name": "conda-root-py"
  },
  "language_info": {
   "codemirror_mode": {
    "name": "ipython",
    "version": 3
   },
   "file_extension": ".py",
   "mimetype": "text/x-python",
   "name": "python",
   "nbconvert_exporter": "python",
   "pygments_lexer": "ipython3",
   "version": "3.5.2"
  }
 },
 "nbformat": 4,
 "nbformat_minor": 2
}
